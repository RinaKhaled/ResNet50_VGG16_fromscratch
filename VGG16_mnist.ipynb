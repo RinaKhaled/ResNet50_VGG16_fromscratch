{
  "nbformat": 4,
  "nbformat_minor": 0,
  "metadata": {
    "colab": {
      "provenance": [],
      "gpuType": "T4"
    },
    "kernelspec": {
      "name": "python3",
      "display_name": "Python 3"
    },
    "language_info": {
      "name": "python"
    },
    "accelerator": "GPU"
  },
  "cells": [
    {
      "cell_type": "code",
      "execution_count": 11,
      "metadata": {
        "id": "hGMvuZk5VPMp"
      },
      "outputs": [],
      "source": [
        "import tensorflow as tf\n",
        "from tensorflow import keras\n",
        "from tensorflow.keras import datasets, layers, models\n",
        "import matplotlib.pyplot as plt\n",
        "from sklearn.metrics import confusion_matrix, precision_score, recall_score, f1_score\n",
        "import numpy as np"
      ]
    },
    {
      "cell_type": "code",
      "source": [
        "def eval(model, test_images,  test_labels):\n",
        "  test_loss, test_acc = model.evaluate(test_images,  test_labels, verbose=2)\n",
        "  print(test_acc)\n",
        "\n",
        "  predictions = model.predict(test_images)\n",
        "  predicted_labels = tf.argmax(predictions,axis=1)\n",
        "\n",
        "  confusion = confusion_matrix(test_labels, predicted_labels)\n",
        "  precision = precision_score(test_labels, predicted_labels, average='weighted')\n",
        "  recall = recall_score(test_labels, predicted_labels, average='weighted')\n",
        "  f1 = f1_score(test_labels, predicted_labels, average='weighted')\n",
        "\n",
        "  print(\"Confusion Matrix:\")\n",
        "  print(confusion)\n",
        "  print(f\"Precision: {precision:.4f}\")\n",
        "  print(f\"Recall: {recall:.4f}\")\n",
        "  print(f\"F1 Score:{f1:.4f}\")\n"
      ],
      "metadata": {
        "id": "jA_pcx9w1Y9t"
      },
      "execution_count": 12,
      "outputs": []
    },
    {
      "cell_type": "code",
      "source": [
        "(xtrain,ytrain),(xtest,ytest)= keras.datasets.mnist.load_data()\n",
        "xtrain=np.dstack([xtrain] * 3)\n",
        "xtest=np.dstack([xtest]*3)"
      ],
      "metadata": {
        "id": "Z8IdUFyfVryR"
      },
      "execution_count": 13,
      "outputs": []
    },
    {
      "cell_type": "code",
      "source": [
        "xtrain = xtrain.reshape(-1, 28,28,3)\n",
        "xtest= xtest.reshape (-1,28,28,3)\n",
        "xtrain.shape"
      ],
      "metadata": {
        "colab": {
          "base_uri": "https://localhost:8080/"
        },
        "id": "9qIw1wsdWEIb",
        "outputId": "982d97c8-392d-4376-e3b0-614fb463aff9"
      },
      "execution_count": 14,
      "outputs": [
        {
          "output_type": "execute_result",
          "data": {
            "text/plain": [
              "(60000, 28, 28, 3)"
            ]
          },
          "metadata": {},
          "execution_count": 14
        }
      ]
    },
    {
      "cell_type": "code",
      "source": [
        "from keras.preprocessing.image import img_to_array, array_to_img\n",
        "\n",
        "xtrain = np.asarray([img_to_array(array_to_img(im, scale=False).resize((48,48))) for im in xtrain])\n",
        "xtest = np.asarray([img_to_array(array_to_img(im, scale=False).resize((48,48))) for im in xtest])"
      ],
      "metadata": {
        "id": "6rLcTGrQWIUI"
      },
      "execution_count": 15,
      "outputs": []
    },
    {
      "cell_type": "code",
      "source": [
        "from tensorflow.keras.applications import VGG16\n",
        "input_layer=layers.Input(shape=(48,48,3))\n",
        "model_vgg16=VGG16(weights='imagenet',input_tensor=input_layer,include_top=False)\n",
        "\n",
        "model_vgg16.summary()\n"
      ],
      "metadata": {
        "colab": {
          "base_uri": "https://localhost:8080/"
        },
        "id": "U1a6IdgBWLJZ",
        "outputId": "b05db138-faf0-4926-bc96-9e3003b479f7"
      },
      "execution_count": 16,
      "outputs": [
        {
          "output_type": "stream",
          "name": "stdout",
          "text": [
            "Downloading data from https://storage.googleapis.com/tensorflow/keras-applications/vgg16/vgg16_weights_tf_dim_ordering_tf_kernels_notop.h5\n",
            "58889256/58889256 [==============================] - 0s 0us/step\n",
            "Model: \"vgg16\"\n",
            "_________________________________________________________________\n",
            " Layer (type)                Output Shape              Param #   \n",
            "=================================================================\n",
            " input_1 (InputLayer)        [(None, 48, 48, 3)]       0         \n",
            "                                                                 \n",
            " block1_conv1 (Conv2D)       (None, 48, 48, 64)        1792      \n",
            "                                                                 \n",
            " block1_conv2 (Conv2D)       (None, 48, 48, 64)        36928     \n",
            "                                                                 \n",
            " block1_pool (MaxPooling2D)  (None, 24, 24, 64)        0         \n",
            "                                                                 \n",
            " block2_conv1 (Conv2D)       (None, 24, 24, 128)       73856     \n",
            "                                                                 \n",
            " block2_conv2 (Conv2D)       (None, 24, 24, 128)       147584    \n",
            "                                                                 \n",
            " block2_pool (MaxPooling2D)  (None, 12, 12, 128)       0         \n",
            "                                                                 \n",
            " block3_conv1 (Conv2D)       (None, 12, 12, 256)       295168    \n",
            "                                                                 \n",
            " block3_conv2 (Conv2D)       (None, 12, 12, 256)       590080    \n",
            "                                                                 \n",
            " block3_conv3 (Conv2D)       (None, 12, 12, 256)       590080    \n",
            "                                                                 \n",
            " block3_pool (MaxPooling2D)  (None, 6, 6, 256)         0         \n",
            "                                                                 \n",
            " block4_conv1 (Conv2D)       (None, 6, 6, 512)         1180160   \n",
            "                                                                 \n",
            " block4_conv2 (Conv2D)       (None, 6, 6, 512)         2359808   \n",
            "                                                                 \n",
            " block4_conv3 (Conv2D)       (None, 6, 6, 512)         2359808   \n",
            "                                                                 \n",
            " block4_pool (MaxPooling2D)  (None, 3, 3, 512)         0         \n",
            "                                                                 \n",
            " block5_conv1 (Conv2D)       (None, 3, 3, 512)         2359808   \n",
            "                                                                 \n",
            " block5_conv2 (Conv2D)       (None, 3, 3, 512)         2359808   \n",
            "                                                                 \n",
            " block5_conv3 (Conv2D)       (None, 3, 3, 512)         2359808   \n",
            "                                                                 \n",
            " block5_pool (MaxPooling2D)  (None, 1, 1, 512)         0         \n",
            "                                                                 \n",
            "=================================================================\n",
            "Total params: 14714688 (56.13 MB)\n",
            "Trainable params: 14714688 (56.13 MB)\n",
            "Non-trainable params: 0 (0.00 Byte)\n",
            "_________________________________________________________________\n"
          ]
        }
      ]
    },
    {
      "cell_type": "code",
      "source": [
        "last_layer=model_vgg16.output\n",
        "flatten=layers.Flatten()(last_layer)\n",
        "dense1=layers.Dense(4096,activation='relu')(flatten)\n",
        "dense1=layers.Dense(4096,activation='relu')(flatten)\n",
        "output_layer=layers.Dense(10,activation='softmax')(flatten)\n",
        "model=models.Model(inputs=input_layer,outputs=output_layer)\n",
        "model.summary()"
      ],
      "metadata": {
        "colab": {
          "base_uri": "https://localhost:8080/"
        },
        "id": "5QwJKp_YWt45",
        "outputId": "edcc1bb5-a610-4b1a-a9c9-7078448563e7"
      },
      "execution_count": 17,
      "outputs": [
        {
          "output_type": "stream",
          "name": "stdout",
          "text": [
            "Model: \"model\"\n",
            "_________________________________________________________________\n",
            " Layer (type)                Output Shape              Param #   \n",
            "=================================================================\n",
            " input_1 (InputLayer)        [(None, 48, 48, 3)]       0         \n",
            "                                                                 \n",
            " block1_conv1 (Conv2D)       (None, 48, 48, 64)        1792      \n",
            "                                                                 \n",
            " block1_conv2 (Conv2D)       (None, 48, 48, 64)        36928     \n",
            "                                                                 \n",
            " block1_pool (MaxPooling2D)  (None, 24, 24, 64)        0         \n",
            "                                                                 \n",
            " block2_conv1 (Conv2D)       (None, 24, 24, 128)       73856     \n",
            "                                                                 \n",
            " block2_conv2 (Conv2D)       (None, 24, 24, 128)       147584    \n",
            "                                                                 \n",
            " block2_pool (MaxPooling2D)  (None, 12, 12, 128)       0         \n",
            "                                                                 \n",
            " block3_conv1 (Conv2D)       (None, 12, 12, 256)       295168    \n",
            "                                                                 \n",
            " block3_conv2 (Conv2D)       (None, 12, 12, 256)       590080    \n",
            "                                                                 \n",
            " block3_conv3 (Conv2D)       (None, 12, 12, 256)       590080    \n",
            "                                                                 \n",
            " block3_pool (MaxPooling2D)  (None, 6, 6, 256)         0         \n",
            "                                                                 \n",
            " block4_conv1 (Conv2D)       (None, 6, 6, 512)         1180160   \n",
            "                                                                 \n",
            " block4_conv2 (Conv2D)       (None, 6, 6, 512)         2359808   \n",
            "                                                                 \n",
            " block4_conv3 (Conv2D)       (None, 6, 6, 512)         2359808   \n",
            "                                                                 \n",
            " block4_pool (MaxPooling2D)  (None, 3, 3, 512)         0         \n",
            "                                                                 \n",
            " block5_conv1 (Conv2D)       (None, 3, 3, 512)         2359808   \n",
            "                                                                 \n",
            " block5_conv2 (Conv2D)       (None, 3, 3, 512)         2359808   \n",
            "                                                                 \n",
            " block5_conv3 (Conv2D)       (None, 3, 3, 512)         2359808   \n",
            "                                                                 \n",
            " block5_pool (MaxPooling2D)  (None, 1, 1, 512)         0         \n",
            "                                                                 \n",
            " flatten_1 (Flatten)         (None, 512)               0         \n",
            "                                                                 \n",
            " dense_5 (Dense)             (None, 10)                5130      \n",
            "                                                                 \n",
            "=================================================================\n",
            "Total params: 14719818 (56.15 MB)\n",
            "Trainable params: 14719818 (56.15 MB)\n",
            "Non-trainable params: 0 (0.00 Byte)\n",
            "_________________________________________________________________\n"
          ]
        }
      ]
    },
    {
      "cell_type": "code",
      "source": [
        "for layer in model.layers[:-1]:\n",
        "    layer.trainable=False\n",
        "model.summary()"
      ],
      "metadata": {
        "colab": {
          "base_uri": "https://localhost:8080/"
        },
        "id": "PqgZReiGXHMR",
        "outputId": "9e331ee9-b955-46b5-9960-77c9440995ac"
      },
      "execution_count": 18,
      "outputs": [
        {
          "output_type": "stream",
          "name": "stdout",
          "text": [
            "Model: \"model\"\n",
            "_________________________________________________________________\n",
            " Layer (type)                Output Shape              Param #   \n",
            "=================================================================\n",
            " input_1 (InputLayer)        [(None, 48, 48, 3)]       0         \n",
            "                                                                 \n",
            " block1_conv1 (Conv2D)       (None, 48, 48, 64)        1792      \n",
            "                                                                 \n",
            " block1_conv2 (Conv2D)       (None, 48, 48, 64)        36928     \n",
            "                                                                 \n",
            " block1_pool (MaxPooling2D)  (None, 24, 24, 64)        0         \n",
            "                                                                 \n",
            " block2_conv1 (Conv2D)       (None, 24, 24, 128)       73856     \n",
            "                                                                 \n",
            " block2_conv2 (Conv2D)       (None, 24, 24, 128)       147584    \n",
            "                                                                 \n",
            " block2_pool (MaxPooling2D)  (None, 12, 12, 128)       0         \n",
            "                                                                 \n",
            " block3_conv1 (Conv2D)       (None, 12, 12, 256)       295168    \n",
            "                                                                 \n",
            " block3_conv2 (Conv2D)       (None, 12, 12, 256)       590080    \n",
            "                                                                 \n",
            " block3_conv3 (Conv2D)       (None, 12, 12, 256)       590080    \n",
            "                                                                 \n",
            " block3_pool (MaxPooling2D)  (None, 6, 6, 256)         0         \n",
            "                                                                 \n",
            " block4_conv1 (Conv2D)       (None, 6, 6, 512)         1180160   \n",
            "                                                                 \n",
            " block4_conv2 (Conv2D)       (None, 6, 6, 512)         2359808   \n",
            "                                                                 \n",
            " block4_conv3 (Conv2D)       (None, 6, 6, 512)         2359808   \n",
            "                                                                 \n",
            " block4_pool (MaxPooling2D)  (None, 3, 3, 512)         0         \n",
            "                                                                 \n",
            " block5_conv1 (Conv2D)       (None, 3, 3, 512)         2359808   \n",
            "                                                                 \n",
            " block5_conv2 (Conv2D)       (None, 3, 3, 512)         2359808   \n",
            "                                                                 \n",
            " block5_conv3 (Conv2D)       (None, 3, 3, 512)         2359808   \n",
            "                                                                 \n",
            " block5_pool (MaxPooling2D)  (None, 1, 1, 512)         0         \n",
            "                                                                 \n",
            " flatten_1 (Flatten)         (None, 512)               0         \n",
            "                                                                 \n",
            " dense_5 (Dense)             (None, 10)                5130      \n",
            "                                                                 \n",
            "=================================================================\n",
            "Total params: 14719818 (56.15 MB)\n",
            "Trainable params: 5130 (20.04 KB)\n",
            "Non-trainable params: 14714688 (56.13 MB)\n",
            "_________________________________________________________________\n"
          ]
        }
      ]
    },
    {
      "cell_type": "code",
      "source": [
        "model.compile(optimizer='adam',\n",
        "              loss=tf.keras.losses.SparseCategoricalCrossentropy(from_logits=True),\n",
        "              metrics=['accuracy'])\n",
        "\n",
        "history2 = model.fit(xtrain, ytrain, epochs=5,\n",
        "                    validation_data=(xtest, ytest))"
      ],
      "metadata": {
        "colab": {
          "base_uri": "https://localhost:8080/"
        },
        "id": "6-yaJteaXRzj",
        "outputId": "ff6c5b0a-a83c-4026-a1d5-b4d20bea7a2e"
      },
      "execution_count": 19,
      "outputs": [
        {
          "output_type": "stream",
          "name": "stdout",
          "text": [
            "Epoch 1/5\n"
          ]
        },
        {
          "output_type": "stream",
          "name": "stderr",
          "text": [
            "/usr/local/lib/python3.10/dist-packages/keras/src/backend.py:5729: UserWarning: \"`sparse_categorical_crossentropy` received `from_logits=True`, but the `output` argument was produced by a Softmax activation and thus does not represent logits. Was this intended?\n",
            "  output, from_logits = _get_logits(\n"
          ]
        },
        {
          "output_type": "stream",
          "name": "stdout",
          "text": [
            "1875/1875 [==============================] - 28s 14ms/step - loss: 0.9422 - accuracy: 0.8318 - val_loss: 0.3495 - val_accuracy: 0.9071\n",
            "Epoch 2/5\n",
            "1875/1875 [==============================] - 27s 14ms/step - loss: 0.3563 - accuracy: 0.9041 - val_loss: 0.3250 - val_accuracy: 0.9090\n",
            "Epoch 3/5\n",
            "1875/1875 [==============================] - 27s 14ms/step - loss: 0.3272 - accuracy: 0.9110 - val_loss: 0.3231 - val_accuracy: 0.9130\n",
            "Epoch 4/5\n",
            "1875/1875 [==============================] - 26s 14ms/step - loss: 0.3150 - accuracy: 0.9146 - val_loss: 0.3382 - val_accuracy: 0.9120\n",
            "Epoch 5/5\n",
            "1875/1875 [==============================] - 26s 14ms/step - loss: 0.3070 - accuracy: 0.9150 - val_loss: 0.4062 - val_accuracy: 0.8934\n"
          ]
        }
      ]
    },
    {
      "cell_type": "code",
      "source": [
        "eval(model,xtest, ytest)"
      ],
      "metadata": {
        "colab": {
          "base_uri": "https://localhost:8080/"
        },
        "id": "4Z1L5FhgYPm0",
        "outputId": "f08a0667-f082-4054-8d7d-38eeb9a6470a"
      },
      "execution_count": 20,
      "outputs": [
        {
          "output_type": "stream",
          "name": "stdout",
          "text": [
            "313/313 - 4s - loss: 0.4062 - accuracy: 0.8934 - 4s/epoch - 11ms/step\n",
            "0.8934000134468079\n",
            "313/313 [==============================] - 4s 11ms/step\n",
            "Confusion Matrix:\n",
            "[[ 969    0    1    0    0    3    2    1    1    3]\n",
            " [   1 1104    2    1    9    5    4    4    1    4]\n",
            " [  13    1  875   13    6   66    8    9   14   27]\n",
            " [   0    0    8  829    0  154    0    2    6   11]\n",
            " [   1    0    7    1  896    8    5    2    2   60]\n",
            " [   6    1    5   19    0  841    5    5    6    4]\n",
            " [  24    3   12    0   11   20  882    0    3    3]\n",
            " [   1    2   16    6   16   32    0  822    1  132]\n",
            " [  11    1    9   24   14   77    2    1  734  101]\n",
            " [   3    0    2    4    7    7    0    2    2  982]]\n",
            "Precision: 0.9085\n",
            "Recall: 0.8934\n",
            "F1 Score:0.8950\n"
          ]
        }
      ]
    },
    {
      "cell_type": "code",
      "source": [
        "model1 = models.Sequential()\n",
        "\n",
        "model1.add(layers.Conv2D(64, (3, 3), activation='relu', padding='same', input_shape=(48, 48, 3)))\n",
        "model1.add(layers.Conv2D(64, (3, 3), activation='relu', padding='same'))\n",
        "model1.add(layers.MaxPooling2D((2, 2), strides=(2,2)))\n",
        "\n",
        "model1.add(layers.Conv2D(128, (3, 3), activation='relu', padding='same'))\n",
        "model1.add(layers.Conv2D(128, (3, 3), activation='relu', padding='same'))\n",
        "model1.add(layers.MaxPooling2D((2, 2), strides=(2,2)))\n",
        "\n",
        "model1.add(layers.Conv2D(256, (3, 3), activation='relu', padding='same'))\n",
        "model1.add(layers.Conv2D(256, (3, 3), activation='relu', padding='same'))\n",
        "model1.add(layers.Conv2D(256, (3, 3), activation='relu', padding='same'))\n",
        "model1.add(layers.MaxPooling2D((2, 2), strides=(2,2)))\n",
        "\n",
        "model1.add(layers.Conv2D(512, (3, 3), activation='relu', padding='same'))\n",
        "model1.add(layers.Conv2D(512, (3, 3), activation='relu', padding='same'))\n",
        "model1.add(layers.Conv2D(512, (3, 3), activation='relu', padding='same'))\n",
        "model1.add(layers.MaxPooling2D((2, 2), strides=(2,2)))\n",
        "\n",
        "model1.add(layers.Conv2D(512, (3, 3), activation='relu', padding='same'))\n",
        "model1.add(layers.Conv2D(512, (3, 3), activation='relu', padding='same'))\n",
        "model1.add(layers.Conv2D(512, (3, 3), activation='relu', padding='same'))\n",
        "model1.add(layers.MaxPooling2D((2, 2), strides=(2,2)))\n",
        "\n",
        "model1.add(layers.Flatten())\n",
        "model1.add(layers.Dense(4096, activation='relu'))\n",
        "model1.add(layers.Dense(4096, activation='relu'))\n",
        "model1.add(layers.Dense(10, activation='softmax'))\n",
        "\n",
        "model1.summary()"
      ],
      "metadata": {
        "colab": {
          "base_uri": "https://localhost:8080/"
        },
        "id": "n23blxCOX8Vo",
        "outputId": "d235f9f3-c4ea-40fe-e37f-68c7a8fcd941"
      },
      "execution_count": 21,
      "outputs": [
        {
          "output_type": "stream",
          "name": "stdout",
          "text": [
            "Model: \"sequential_1\"\n",
            "_________________________________________________________________\n",
            " Layer (type)                Output Shape              Param #   \n",
            "=================================================================\n",
            " conv2d_13 (Conv2D)          (None, 48, 48, 64)        1792      \n",
            "                                                                 \n",
            " conv2d_14 (Conv2D)          (None, 48, 48, 64)        36928     \n",
            "                                                                 \n",
            " max_pooling2d_5 (MaxPoolin  (None, 24, 24, 64)        0         \n",
            " g2D)                                                            \n",
            "                                                                 \n",
            " conv2d_15 (Conv2D)          (None, 24, 24, 128)       73856     \n",
            "                                                                 \n",
            " conv2d_16 (Conv2D)          (None, 24, 24, 128)       147584    \n",
            "                                                                 \n",
            " max_pooling2d_6 (MaxPoolin  (None, 12, 12, 128)       0         \n",
            " g2D)                                                            \n",
            "                                                                 \n",
            " conv2d_17 (Conv2D)          (None, 12, 12, 256)       295168    \n",
            "                                                                 \n",
            " conv2d_18 (Conv2D)          (None, 12, 12, 256)       590080    \n",
            "                                                                 \n",
            " conv2d_19 (Conv2D)          (None, 12, 12, 256)       590080    \n",
            "                                                                 \n",
            " max_pooling2d_7 (MaxPoolin  (None, 6, 6, 256)         0         \n",
            " g2D)                                                            \n",
            "                                                                 \n",
            " conv2d_20 (Conv2D)          (None, 6, 6, 512)         1180160   \n",
            "                                                                 \n",
            " conv2d_21 (Conv2D)          (None, 6, 6, 512)         2359808   \n",
            "                                                                 \n",
            " conv2d_22 (Conv2D)          (None, 6, 6, 512)         2359808   \n",
            "                                                                 \n",
            " max_pooling2d_8 (MaxPoolin  (None, 3, 3, 512)         0         \n",
            " g2D)                                                            \n",
            "                                                                 \n",
            " conv2d_23 (Conv2D)          (None, 3, 3, 512)         2359808   \n",
            "                                                                 \n",
            " conv2d_24 (Conv2D)          (None, 3, 3, 512)         2359808   \n",
            "                                                                 \n",
            " conv2d_25 (Conv2D)          (None, 3, 3, 512)         2359808   \n",
            "                                                                 \n",
            " max_pooling2d_9 (MaxPoolin  (None, 1, 1, 512)         0         \n",
            " g2D)                                                            \n",
            "                                                                 \n",
            " flatten_2 (Flatten)         (None, 512)               0         \n",
            "                                                                 \n",
            " dense_6 (Dense)             (None, 4096)              2101248   \n",
            "                                                                 \n",
            " dense_7 (Dense)             (None, 4096)              16781312  \n",
            "                                                                 \n",
            " dense_8 (Dense)             (None, 10)                40970     \n",
            "                                                                 \n",
            "=================================================================\n",
            "Total params: 33638218 (128.32 MB)\n",
            "Trainable params: 33638218 (128.32 MB)\n",
            "Non-trainable params: 0 (0.00 Byte)\n",
            "_________________________________________________________________\n"
          ]
        }
      ]
    },
    {
      "cell_type": "code",
      "source": [
        "model1.compile(optimizer='adam',\n",
        "              loss=tf.keras.losses.SparseCategoricalCrossentropy(from_logits=True),\n",
        "              metrics=['accuracy'])\n",
        "\n",
        "history2 = model1.fit(xtrain, ytrain,batch_size=128, epochs=5,\n",
        "                    validation_data=(xtest, ytest))"
      ],
      "metadata": {
        "colab": {
          "base_uri": "https://localhost:8080/"
        },
        "id": "oX1MoR2IX__G",
        "outputId": "5ff6ea96-5878-408d-92a8-0ccf4bae4974"
      },
      "execution_count": 22,
      "outputs": [
        {
          "output_type": "stream",
          "name": "stdout",
          "text": [
            "Epoch 1/5\n"
          ]
        },
        {
          "output_type": "stream",
          "name": "stderr",
          "text": [
            "/usr/local/lib/python3.10/dist-packages/keras/src/backend.py:5729: UserWarning: \"`sparse_categorical_crossentropy` received `from_logits=True`, but the `output` argument was produced by a Softmax activation and thus does not represent logits. Was this intended?\n",
            "  output, from_logits = _get_logits(\n"
          ]
        },
        {
          "output_type": "stream",
          "name": "stdout",
          "text": [
            "469/469 [==============================] - 54s 108ms/step - loss: 2.8181 - accuracy: 0.1167 - val_loss: 2.3019 - val_accuracy: 0.1135\n",
            "Epoch 2/5\n",
            "469/469 [==============================] - 50s 107ms/step - loss: 2.3022 - accuracy: 0.1155 - val_loss: 2.3032 - val_accuracy: 0.0958\n",
            "Epoch 3/5\n",
            "469/469 [==============================] - 50s 107ms/step - loss: 1.2616 - accuracy: 0.5278 - val_loss: 0.1829 - val_accuracy: 0.9533\n",
            "Epoch 4/5\n",
            "469/469 [==============================] - 51s 109ms/step - loss: 0.1401 - accuracy: 0.9621 - val_loss: 0.1235 - val_accuracy: 0.9660\n",
            "Epoch 5/5\n",
            "469/469 [==============================] - 51s 109ms/step - loss: 0.0868 - accuracy: 0.9765 - val_loss: 0.0879 - val_accuracy: 0.9730\n"
          ]
        }
      ]
    },
    {
      "cell_type": "code",
      "source": [
        "eval(model1,xtest, ytest)"
      ],
      "metadata": {
        "colab": {
          "base_uri": "https://localhost:8080/"
        },
        "id": "m7KSC92q3GU9",
        "outputId": "0655dcba-b659-4ae0-981e-85a6832c3724"
      },
      "execution_count": 23,
      "outputs": [
        {
          "output_type": "stream",
          "name": "stdout",
          "text": [
            "313/313 - 4s - loss: 0.0879 - accuracy: 0.9730 - 4s/epoch - 12ms/step\n",
            "0.9729999899864197\n",
            "313/313 [==============================] - 4s 11ms/step\n",
            "Confusion Matrix:\n",
            "[[ 979    0    0    0    0    0    0    1    0    0]\n",
            " [   0 1132    1    1    0    0    0    0    1    0]\n",
            " [  23   16  988    0    0    0    0    2    3    0]\n",
            " [   0    0    3  982    0    8    0    0    9    8]\n",
            " [   6    2    0    0  953    0    6    0    4   11]\n",
            " [   0    9    0    4    2  863    3    0    9    2]\n",
            " [  37   10    2    0    1    0  906    0    2    0]\n",
            " [   1    9   10    1    3    0    0  995    2    7]\n",
            " [   6    0    1    0    0    1    4    0  961    1]\n",
            " [   0    0    0    1   19    0    0    8   10  971]]\n",
            "Precision: 0.9736\n",
            "Recall: 0.9730\n",
            "F1 Score:0.9730\n"
          ]
        }
      ]
    }
  ]
}